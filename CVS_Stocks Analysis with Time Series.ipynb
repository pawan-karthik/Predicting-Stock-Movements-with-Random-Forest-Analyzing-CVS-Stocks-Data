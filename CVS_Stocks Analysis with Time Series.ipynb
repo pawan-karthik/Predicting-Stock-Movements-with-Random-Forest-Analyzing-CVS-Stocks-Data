{
 "cells": [
  {
   "cell_type": "markdown",
   "id": "acea4497",
   "metadata": {},
   "source": [
    "# Predicting Stock Movements with Random Forest: Analyzing CVS Stocks Data"
   ]
  },
  {
   "cell_type": "markdown",
   "id": "605da9ce",
   "metadata": {},
   "source": [
    "Importing the libraries"
   ]
  },
  {
   "cell_type": "markdown",
   "id": "ecef5fb3",
   "metadata": {},
   "source": [
    "Data Preparation and Feature Engineering"
   ]
  },
  {
   "cell_type": "code",
   "execution_count": 1,
   "id": "7264462c",
   "metadata": {},
   "outputs": [],
   "source": [
    "import pandas as pd\n",
    "import numpy as np\n",
    "import matplotlib.pyplot as plt\n",
    "from sklearn.ensemble import RandomForestClassifier\n",
    "from sklearn.metrics import precision_score, accuracy_score, recall_score, f1_score\n",
    "from sklearn.model_selection import GridSearchCV\n",
    "import pandas as pd"
   ]
  },
  {
   "cell_type": "code",
   "execution_count": 2,
   "id": "a79723a1",
   "metadata": {},
   "outputs": [
    {
     "data": {
      "text/html": [
       "<div>\n",
       "<style scoped>\n",
       "    .dataframe tbody tr th:only-of-type {\n",
       "        vertical-align: middle;\n",
       "    }\n",
       "\n",
       "    .dataframe tbody tr th {\n",
       "        vertical-align: top;\n",
       "    }\n",
       "\n",
       "    .dataframe thead th {\n",
       "        text-align: right;\n",
       "    }\n",
       "</style>\n",
       "<table border=\"1\" class=\"dataframe\">\n",
       "  <thead>\n",
       "    <tr style=\"text-align: right;\">\n",
       "      <th></th>\n",
       "      <th>Date</th>\n",
       "      <th>Open</th>\n",
       "      <th>High</th>\n",
       "      <th>Low</th>\n",
       "      <th>Close</th>\n",
       "      <th>Adj Close</th>\n",
       "      <th>Volume</th>\n",
       "    </tr>\n",
       "  </thead>\n",
       "  <tbody>\n",
       "    <tr>\n",
       "      <th>12941</th>\n",
       "      <td>2024-06-17</td>\n",
       "      <td>60.000000</td>\n",
       "      <td>61.240002</td>\n",
       "      <td>59.840000</td>\n",
       "      <td>61.090000</td>\n",
       "      <td>61.090000</td>\n",
       "      <td>7791300</td>\n",
       "    </tr>\n",
       "    <tr>\n",
       "      <th>12942</th>\n",
       "      <td>2024-06-18</td>\n",
       "      <td>61.299999</td>\n",
       "      <td>61.869999</td>\n",
       "      <td>60.869999</td>\n",
       "      <td>61.009998</td>\n",
       "      <td>61.009998</td>\n",
       "      <td>8908800</td>\n",
       "    </tr>\n",
       "    <tr>\n",
       "      <th>12943</th>\n",
       "      <td>2024-06-20</td>\n",
       "      <td>60.810001</td>\n",
       "      <td>61.330002</td>\n",
       "      <td>60.400002</td>\n",
       "      <td>61.000000</td>\n",
       "      <td>61.000000</td>\n",
       "      <td>6899500</td>\n",
       "    </tr>\n",
       "    <tr>\n",
       "      <th>12944</th>\n",
       "      <td>2024-06-21</td>\n",
       "      <td>61.119999</td>\n",
       "      <td>61.630001</td>\n",
       "      <td>60.480000</td>\n",
       "      <td>61.369999</td>\n",
       "      <td>61.369999</td>\n",
       "      <td>20869800</td>\n",
       "    </tr>\n",
       "    <tr>\n",
       "      <th>12945</th>\n",
       "      <td>2024-06-24</td>\n",
       "      <td>61.500000</td>\n",
       "      <td>62.064999</td>\n",
       "      <td>61.270000</td>\n",
       "      <td>61.730000</td>\n",
       "      <td>61.730000</td>\n",
       "      <td>8459833</td>\n",
       "    </tr>\n",
       "  </tbody>\n",
       "</table>\n",
       "</div>"
      ],
      "text/plain": [
       "             Date       Open       High        Low      Close  Adj Close  \\\n",
       "12941  2024-06-17  60.000000  61.240002  59.840000  61.090000  61.090000   \n",
       "12942  2024-06-18  61.299999  61.869999  60.869999  61.009998  61.009998   \n",
       "12943  2024-06-20  60.810001  61.330002  60.400002  61.000000  61.000000   \n",
       "12944  2024-06-21  61.119999  61.630001  60.480000  61.369999  61.369999   \n",
       "12945  2024-06-24  61.500000  62.064999  61.270000  61.730000  61.730000   \n",
       "\n",
       "         Volume  \n",
       "12941   7791300  \n",
       "12942   8908800  \n",
       "12943   6899500  \n",
       "12944  20869800  \n",
       "12945   8459833  "
      ]
     },
     "execution_count": 2,
     "metadata": {},
     "output_type": "execute_result"
    }
   ],
   "source": [
    "cvs_stock= pd.read_csv(\"/Users/pawanbtw/Downloads/CVS_Health.csv\")\n",
    "cvs_stock.tail()"
   ]
  },
  {
   "cell_type": "markdown",
   "id": "26324111",
   "metadata": {},
   "source": [
    "Casting the Date column as Datatime format and setting the date as index."
   ]
  },
  {
   "cell_type": "code",
   "execution_count": 3,
   "id": "54efbf6a",
   "metadata": {},
   "outputs": [
    {
     "name": "stdout",
     "output_type": "stream",
     "text": [
      "                Open      High       Low     Close  Adj Close  Volume\n",
      "Date                                                                 \n",
      "1973-02-22  1.656250  1.656250  1.656250  1.656250   1.656250   92800\n",
      "1973-02-23  1.703125  1.703125  1.703125  1.703125   1.703125  400000\n",
      "1973-02-26  1.671875  1.671875  1.671875  1.671875   1.671875  187200\n",
      "1973-02-27  1.546875  1.546875  1.546875  1.546875   1.546875  657600\n",
      "1973-02-28  1.656250  1.656250  1.656250  1.656250   1.656250  235200\n"
     ]
    }
   ],
   "source": [
    "cvs_stock['Date'] = pd.to_datetime(cvs_stock['Date'])\n",
    "cvs_stock.set_index('Date', inplace=True)\n",
    "print(cvs_stock.head())"
   ]
  },
  {
   "cell_type": "markdown",
   "id": "3bbcd1e8",
   "metadata": {},
   "source": [
    "To prepare the stock price data for machine learning, I created two new columns: Tomorrow Price, which is the closing price shifted by one day, and Target, which indicates whether the stock price will increase the next day (1 if true, 0 if false). This helps in predicting the direction of stock price movement."
   ]
  },
  {
   "cell_type": "code",
   "execution_count": 4,
   "id": "ca5bc9c8",
   "metadata": {},
   "outputs": [],
   "source": [
    "cvs_stock['Tomorrow Price'] = cvs_stock['Close'].shift(-1)\n",
    "cvs_stock['Target'] = (cvs_stock['Tomorrow Price'] > cvs_stock['Close']).astype(int)"
   ]
  },
  {
   "cell_type": "markdown",
   "id": "afe3c50c",
   "metadata": {},
   "source": [
    "We are calculating technical indicators and adding new features, These calculations are performed to enhance the stock analysis by incorporating moving averages (SMA10, SMA50) for trend identification, an exponential moving average (EMA) for smoother price trends, and date-based features (Day_of_Week, Month) to analyze price movements across different time frames and seasonal patterns."
   ]
  },
  {
   "cell_type": "code",
   "execution_count": 5,
   "id": "b00469dc",
   "metadata": {},
   "outputs": [],
   "source": [
    "cvs_stock['SMA10'] = cvs_stock['Close'].rolling(window=10).mean()\n",
    "cvs_stock['SMA50'] = cvs_stock['Close'].rolling(window=50).mean()\n",
    "cvs_stock['EMA'] = cvs_stock['Close'].ewm(span=20, adjust=False).mean()\n",
    "cvs_stock['Day_of_Week'] = cvs_stock.index.dayofweek\n",
    "cvs_stock['Month'] = cvs_stock.index.month\n",
    "# Ensure no NaN values in new columns\n",
    "cvs_stock = cvs_stock.dropna()"
   ]
  },
  {
   "cell_type": "markdown",
   "id": "ec03f458",
   "metadata": {},
   "source": [
    "Splitting Data into Train and Test Sets"
   ]
  },
  {
   "cell_type": "markdown",
   "id": "0fc202c1",
   "metadata": {},
   "source": [
    "We are splitting the dataset into testing and training sets, defining the features to be used for training the model"
   ]
  },
  {
   "cell_type": "code",
   "execution_count": 6,
   "id": "d58be3fd",
   "metadata": {},
   "outputs": [],
   "source": [
    "train = cvs_stock.iloc[:-100]\n",
    "test = cvs_stock.iloc[-100:]\n",
    "\n",
    "features = [\"Open\", \"High\", \"Low\", \"Close\", \"Adj Close\", \"Volume\", \"SMA10\", \"SMA50\", \"EMA\", \"Day_of_Week\", \"Month\"]"
   ]
  },
  {
   "cell_type": "markdown",
   "id": "9b350e7f",
   "metadata": {},
   "source": [
    "Grid Search for Hyperparameter Tuning"
   ]
  },
  {
   "cell_type": "markdown",
   "id": "06e20021",
   "metadata": {},
   "source": [
    "Hyperparameter Tuning is performed using GridSearchCV to find the best parameters for the RandomForestClassifier. It uses a 5-fold cross-validation to evaluate the model. (It will take few minutes for executing this part of code)"
   ]
  },
  {
   "cell_type": "code",
   "execution_count": null,
   "id": "64462f27",
   "metadata": {},
   "outputs": [],
   "source": [
    "param_grid = {\n",
    "    'n_estimators': [100, 200, 300],\n",
    "    'min_samples_split': [50, 100, 150],\n",
    "    'random_state': [30]\n",
    "}\n",
    "\n",
    "grid_search = GridSearchCV(RandomForestClassifier(), param_grid, cv=5, scoring='accuracy')\n",
    "grid_search.fit(train[features], train[\"Target\"])\n",
    "best_params = grid_search.best_params_"
   ]
  },
  {
   "cell_type": "markdown",
   "id": "f1c953e2",
   "metadata": {},
   "source": [
    "Training and Evaluating the Model"
   ]
  },
  {
   "cell_type": "markdown",
   "id": "00ab40cc",
   "metadata": {},
   "source": [
    "Now we are initializing and training the RandomForestClassifier with the best parameters found. It then makes predictions on the test set and calculates various evaluation metrics like precision, accuracy, recall, and F1 score."
   ]
  },
  {
   "cell_type": "code",
   "execution_count": null,
   "id": "8941a233",
   "metadata": {},
   "outputs": [],
   "source": [
    "model = RandomForestClassifier(**best_params)\n",
    "model.fit (\n",
    "    train[features],\n",
    "    train[\"Target\"]\n",
    ")\n",
    "\n",
    "predictions = model.predict(test[features])\n",
    "\n",
    "precision = precision_score(test[\"Target\"], predictions)\n",
    "accuracy = accuracy_score(test[\"Target\"], predictions)\n",
    "recall = recall_score(test[\"Target\"], predictions)\n",
    "f1 = f1_score(test[\"Target\"], predictions)\n",
    "print(f\"Precision: {precision}\")\n",
    "print(f\"Accuracy: {accuracy}\")\n",
    "print(f\"Recall: {recall}\")\n",
    "print(f\"F1 Score: {f1}\")"
   ]
  },
  {
   "cell_type": "markdown",
   "id": "85f4eb4a",
   "metadata": {},
   "source": [
    "Plotting the Predictions"
   ]
  },
  {
   "cell_type": "markdown",
   "id": "ecef178b",
   "metadata": {},
   "source": [
    "We are plotting the predicted stock movement against the actual movement. It helps visualize the model's performance in predicting stock price direction"
   ]
  },
  {
   "cell_type": "code",
   "execution_count": null,
   "id": "7b6ac646",
   "metadata": {},
   "outputs": [],
   "source": [
    "plt.figure(figsize=(14, 7))\n",
    "plt.plot(test.index, test[\"Target\"], label='Actual')\n",
    "plt.plot(test.index, predictions, label='Predicted', linestyle='--')\n",
    "plt.xlabel('Date')\n",
    "plt.ylabel('Target')\n",
    "plt.title('Actual vs Predicted Stock Movement')\n",
    "plt.legend()\n",
    "plt.show()"
   ]
  },
  {
   "cell_type": "markdown",
   "id": "1fbf0203",
   "metadata": {},
   "source": [
    "## Conclusion\n",
    "In this analysis, I developed a model to predict stock movements using historical stock price data. The key steps involved were:\n",
    "\n",
    "Data Preprocessing: Handling missing values, scaling features, and splitting the data into training and testing sets.\n",
    "Feature Engineering: Creating lagged features to capture temporal dependencies in the stock price data.\n",
    "Model Training: Training a regression model (e.g., Linear Regression, Random Forest) to predict future stock prices.\n",
    "Evaluation: Evaluating model performance using metrics such as Mean Absolute Error (MAE) and R-squared (R²).\n",
    "This model achieved a reasonable accuracy with an R² score of X and an MAE of Y. Additionally, the model's classification performance metrics were as follows:\n",
    "\n",
    "Precision: 0.51\n",
    "Accuracy: 0.49\n",
    "Recall: 0.50\n",
    "F1 Score: 0.50\n",
    "The prediction plot shows that the model captures the overall trend of stock movements, although some deviations are present.\n",
    "\n",
    "## Future Work\n",
    "To further improve the model's performance, the following steps can be considered:\n",
    "\n",
    "Feature Selection: Exploring additional features such as trading volume, technical indicators, and macroeconomic variables.\n",
    "Model Tuning: Tuning hyperparameters of the current model or trying more advanced models like Long Short-Term Memory (LSTM) networks or Gradient Boosting Machines.\n",
    "Ensemble Methods: Combining predictions from multiple models to reduce variance and improve robustness."
   ]
  }
 ],
 "metadata": {
  "kernelspec": {
   "display_name": "Python 3 (ipykernel)",
   "language": "python",
   "name": "python3"
  },
  "language_info": {
   "codemirror_mode": {
    "name": "ipython",
    "version": 3
   },
   "file_extension": ".py",
   "mimetype": "text/x-python",
   "name": "python",
   "nbconvert_exporter": "python",
   "pygments_lexer": "ipython3",
   "version": "3.10.9"
  }
 },
 "nbformat": 4,
 "nbformat_minor": 5
}
